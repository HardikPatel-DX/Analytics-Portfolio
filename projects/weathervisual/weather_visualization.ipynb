import streamlit as st
import pandas as pd
import matplotlib.pyplot as plt
import seaborn as sns

st.title("Data Analysis Dashboard")

# Upload CSV
uploaded_file = st.file_uploader("Choose a CSV file", type="csv")

if uploaded_file:
    df = pd.read_csv(uploaded_file)
    st.write("### Dataset Preview", df.head())

    # Summary statistics
    st.write("### Summary Statistics", df.describe())

    # Correlation heatmap
    if st.checkbox("Show Correlation Heatmap"):
        plt.figure(figsize=(10, 6))
        sns.heatmap(df.corr(), annot=True, cmap='coolwarm')
        st.pyplot(plt)

    # Column selection for plotting
    column = st.selectbox("Choose a column to plot", df.columns)
    if st.button("Generate Plot"):
        plt.figure()
        df[column].hist()
        st.pyplot(plt)

